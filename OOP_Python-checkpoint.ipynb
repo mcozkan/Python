{
 "cells": [
  {
   "cell_type": "code",
   "execution_count": 3,
   "metadata": {},
   "outputs": [
    {
     "name": "stdout",
     "output_type": "stream",
     "text": [
      "Taxi model..: Honda Civic <class '__main__.Car'>\n",
      "Truck model..: BMC <class '__main__.Car'>\n",
      "<class 'type'>\n"
     ]
    }
   ],
   "source": [
    "class Car():\n",
    "    model = \"BMC\"\n",
    "    clr = \"Blaze Red\"\n",
    "    capasity = 26000\n",
    "    cylinder = 6\n",
    "    \n",
    "truck = Car() #truck object\n",
    "taxi = Car() # taxi object\n",
    "\n",
    "#now we add some attributes to taxi object:\n",
    "\n",
    "taxi.model = \"Honda Civic\"\n",
    "taxi.cylinder = 4\n",
    "taxi.capasity = 15000\n",
    "taxi.clr = \"yellow\"\n",
    "\n",
    "### now we check the informations:\n",
    "\n",
    "print(\"Taxi model..:\", taxi.model, type(taxi))\n",
    "print(\"Truck model..:\", truck.model, type(truck))\n",
    "print(type(Car))"
   ]
  },
  {
   "cell_type": "code",
   "execution_count": null,
   "metadata": {},
   "outputs": [],
   "source": []
  }
 ],
 "metadata": {
  "kernelspec": {
   "display_name": "Python 3",
   "language": "python",
   "name": "python3"
  },
  "language_info": {
   "codemirror_mode": {
    "name": "ipython",
    "version": 3
   },
   "file_extension": ".py",
   "mimetype": "text/x-python",
   "name": "python",
   "nbconvert_exporter": "python",
   "pygments_lexer": "ipython3",
   "version": "3.7.6"
  }
 },
 "nbformat": 4,
 "nbformat_minor": 4
}
