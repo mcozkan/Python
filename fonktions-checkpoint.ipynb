{
 "cells": [
  {
   "cell_type": "markdown",
   "metadata": {},
   "source": [
    "fonksiyon tanımlama ve fonksiyon çağırma"
   ]
  },
  {
   "cell_type": "code",
   "execution_count": 14,
   "metadata": {},
   "outputs": [
    {
     "ename": "SyntaxError",
     "evalue": "unexpected EOF while parsing (<ipython-input-14-cc33291a8462>, line 4)",
     "output_type": "error",
     "traceback": [
      "\u001b[1;36m  File \u001b[1;32m\"<ipython-input-14-cc33291a8462>\"\u001b[1;36m, line \u001b[1;32m4\u001b[0m\n\u001b[1;33m    def Funk2(x):\u001b[0m\n\u001b[1;37m                 ^\u001b[0m\n\u001b[1;31mSyntaxError\u001b[0m\u001b[1;31m:\u001b[0m unexpected EOF while parsing\n"
     ]
    }
   ],
   "source": [
    "def Funk():\n",
    "    print(\"this my first funktion!\")\n",
    "Funk()\n",
    "def Funk2(x):"
   ]
  },
  {
   "cell_type": "code",
   "execution_count": 29,
   "metadata": {},
   "outputs": [
    {
     "data": {
      "text/plain": [
       "(11, 'result')"
      ]
     },
     "execution_count": 29,
     "metadata": {},
     "output_type": "execute_result"
    }
   ],
   "source": [
    "def fonk2():\n",
    "    result = 2+9\n",
    "    return result\n",
    "numbr = fonk2()\n",
    "transac = numbr + 7\n",
    "transac\n",
    "def fonk3():\n",
    "    result = 2+9\n",
    "    return result,\"result\"\n",
    "fonk3()\n",
    "    "
   ]
  },
  {
   "cell_type": "markdown",
   "metadata": {},
   "source": [
    "### Yield"
   ]
  },
  {
   "cell_type": "code",
   "execution_count": 30,
   "metadata": {
    "scrolled": true
   },
   "outputs": [
    {
     "name": "stdout",
     "output_type": "stream",
     "text": [
      "ali\n",
      "ayşe\n",
      "emel\n",
      "çağrı\n"
     ]
    }
   ],
   "source": [
    "def fonk4():\n",
    "    listt = [\"ali\",\"ayşe\",\"emel\",\"çağrı\"]\n",
    "    for item in listt:\n",
    "        yield item\n",
    "for i in fonk4(): ### with that way, by using a function, we can accept it alike range function.\n",
    "    print(i)"
   ]
  },
  {
   "cell_type": "markdown",
   "metadata": {},
   "source": [
    "### assigning type to a function"
   ]
  },
  {
   "cell_type": "code",
   "execution_count": 33,
   "metadata": {},
   "outputs": [
    {
     "name": "stdout",
     "output_type": "stream",
     "text": [
      "this my first funktion!\n",
      "<class 'NoneType'>\n",
      "<class 'generator'>\n"
     ]
    }
   ],
   "source": [
    "print(type(Funk()))\n",
    "print(type(fonk4()))\n"
   ]
  },
  {
   "cell_type": "markdown",
   "metadata": {},
   "source": [
    "## Parametre Tanımlama"
   ]
  },
  {
   "cell_type": "markdown",
   "metadata": {},
   "source": [
    "parametre tanımlama:"
   ]
  },
  {
   "cell_type": "code",
   "execution_count": 35,
   "metadata": {},
   "outputs": [
    {
     "name": "stdout",
     "output_type": "stream",
     "text": [
      "merhaba Python\n"
     ]
    }
   ],
   "source": [
    "def fonka(param1):\n",
    "    print(\"merhaba\",param1)\n",
    "fonka(\"Python\")\n"
   ]
  },
  {
   "cell_type": "code",
   "execution_count": null,
   "metadata": {},
   "outputs": [],
   "source": []
  }
 ],
 "metadata": {
  "kernelspec": {
   "display_name": "Python 3",
   "language": "python",
   "name": "python3"
  },
  "language_info": {
   "codemirror_mode": {
    "name": "ipython",
    "version": 3
   },
   "file_extension": ".py",
   "mimetype": "text/x-python",
   "name": "python",
   "nbconvert_exporter": "python",
   "pygments_lexer": "ipython3",
   "version": "3.7.6"
  }
 },
 "nbformat": 4,
 "nbformat_minor": 4
}
