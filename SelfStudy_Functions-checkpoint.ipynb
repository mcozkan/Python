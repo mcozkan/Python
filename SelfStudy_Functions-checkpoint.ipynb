{
 "cells": [
  {
   "cell_type": "markdown",
   "metadata": {},
   "source": [
    "### defining function:\n",
    "\n",
    "###### that function creates a list by using \"input\" built-in function then returns us the list and its maximum value."
   ]
  },
  {
   "cell_type": "code",
   "execution_count": null,
   "metadata": {},
   "outputs": [],
   "source": [
    "def find_max(n):  \n",
    "    a = []\n",
    "    n = int(input(\"enter a number: \"))\n",
    "    for i in range(0, n): \n",
    "        ele = int(input())\n",
    "        a.append(ele)\n",
    "    print(a)\n",
    "    print(max(a))"
   ]
  },
  {
   "cell_type": "markdown",
   "metadata": {},
   "source": [
    "### defining empty function:"
   ]
  },
  {
   "cell_type": "markdown",
   "metadata": {},
   "source": [
    "###### if we want to create an empty function; without wrinting \"pass\" is not possible. That will return us an error that's why to create an empty funtion we must write \"pass\"\n"
   ]
  },
  {
   "cell_type": "code",
   "execution_count": 38,
   "metadata": {},
   "outputs": [],
   "source": [
    "def hoch(): \n",
    "    pass"
   ]
  },
  {
   "cell_type": "code",
   "execution_count": 15,
   "metadata": {},
   "outputs": [
    {
     "name": "stdout",
     "output_type": "stream",
     "text": [
      "Please. enter the Fahrenheit value: 255\n",
      "123.88888888888889 degree celcius\n"
     ]
    }
   ],
   "source": [
    "def f2c(f):   # this is a function that converts fahrenheit to degree celcius\n",
    "    return (f-32) / 1.8\n",
    "\n",
    "## Main Programme ###\n",
    "f = float(input(\"Please. enter the Fahrenheit value: \"))\n",
    "c = f2c(f)\n",
    "print(c,\"degree celcius\")"
   ]
  },
  {
   "cell_type": "markdown",
   "metadata": {},
   "source": [
    "### return command:"
   ]
  },
  {
   "cell_type": "markdown",
   "metadata": {},
   "source": [
    "##### as a varible output\n",
    "\n",
    "###### here, \"return\" returns a variable"
   ]
  },
  {
   "cell_type": "code",
   "execution_count": 20,
   "metadata": {},
   "outputs": [
    {
     "data": {
      "text/plain": [
       "6"
      ]
     },
     "execution_count": 20,
     "metadata": {},
     "output_type": "execute_result"
    }
   ],
   "source": [
    "def tot(a):\n",
    "    return a + 1 ###  \n",
    "tot(5)"
   ]
  },
  {
   "cell_type": "markdown",
   "metadata": {},
   "source": [
    "##### as a boolean output\n",
    "###### here will return 0 or 1 depends on the value you entered will calculate if it can be divided 2 or not"
   ]
  },
  {
   "cell_type": "code",
   "execution_count": 37,
   "metadata": {},
   "outputs": [
    {
     "data": {
      "text/plain": [
       "0"
      ]
     },
     "execution_count": 37,
     "metadata": {},
     "output_type": "execute_result"
    }
   ],
   "source": [
    "def ret(r):\n",
    "    return 1 if r%2 == 0 else 0 \n",
    "ret(5)"
   ]
  },
  {
   "cell_type": "markdown",
   "metadata": {},
   "source": [
    "##### multple outputs can be returned\n",
    "###### \"return\" can also return multiple outputs"
   ]
  },
  {
   "cell_type": "code",
   "execution_count": 34,
   "metadata": {},
   "outputs": [
    {
     "data": {
      "text/plain": [
       "(7, 10)"
      ]
     },
     "execution_count": 34,
     "metadata": {},
     "output_type": "execute_result"
    }
   ],
   "source": [
    "def tott(a,b):\n",
    "    a = 2 + b\n",
    "    b = 3 + a\n",
    "    return a,b\n",
    "tott(2,5)"
   ]
  },
  {
   "cell_type": "markdown",
   "metadata": {},
   "source": [
    "### Lambda function \n",
    "######  now let's code the fahrenheit to degree celcius func. with the Lambda function."
   ]
  },
  {
   "cell_type": "code",
   "execution_count": 50,
   "metadata": {},
   "outputs": [
    {
     "name": "stdout",
     "output_type": "stream",
     "text": [
      "121.11111111111111 degree celcius\n"
     ]
    }
   ],
   "source": [
    "f2c = lambda f: ((f - 32) / 1.8)\n",
    "\n",
    "print(f2c(250), \"degree celcius\")\n",
    "\n",
    "# if the function you want to create, is not very complicated, we can write it also by using \"LAMBDA\" function."
   ]
  },
  {
   "cell_type": "markdown",
   "metadata": {},
   "source": [
    "### map() function"
   ]
  },
  {
   "cell_type": "markdown",
   "metadata": {},
   "source": [
    "###### Think that we have list, array like variables and  we want to return that variables as an object. When we want to do that we use the \"MAP()\" function. \n",
    "#### NOTE: if we save something as an object that means you can not use print() function and print it on the screen directly. But you can print it as a list."
   ]
  },
  {
   "cell_type": "code",
   "execution_count": 46,
   "metadata": {},
   "outputs": [
    {
     "name": "stdout",
     "output_type": "stream",
     "text": [
      "[1, 4, 9, 16, 25, 36, 49, 64, 81, 100]\n"
     ]
    }
   ],
   "source": [
    "def sqr(a):\n",
    "    return pow(a,2)\n",
    "numb = range(1,11)\n",
    "map_output = map(sqr, numb)\n",
    "print(list(map_output))"
   ]
  },
  {
   "cell_type": "markdown",
   "metadata": {},
   "source": [
    "### filter() Function"
   ]
  },
  {
   "cell_type": "markdown",
   "metadata": {},
   "source": [
    "##### When the result is True returns the list,array kind of variables as an object. And filtered them the condition is set"
   ]
  },
  {
   "cell_type": "code",
   "execution_count": 54,
   "metadata": {},
   "outputs": [],
   "source": [
    "def fib(n):\n",
    "    if n == 0:\n",
    "        return 0\n",
    "    elif n == 1:\n",
    "        return 1\n",
    "    else:\n",
    "        return fib(n - 1) + fib,(n - 2)\n",
    "    print(fib(10), end = ',')\n",
    "    "
   ]
  }
 ],
 "metadata": {
  "kernelspec": {
   "display_name": "Python 3",
   "language": "python",
   "name": "python3"
  },
  "language_info": {
   "codemirror_mode": {
    "name": "ipython",
    "version": 3
   },
   "file_extension": ".py",
   "mimetype": "text/x-python",
   "name": "python",
   "nbconvert_exporter": "python",
   "pygments_lexer": "ipython3",
   "version": "3.7.6"
  }
 },
 "nbformat": 4,
 "nbformat_minor": 4
}
