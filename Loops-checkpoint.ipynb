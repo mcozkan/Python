{
 "cells": [
  {
   "cell_type": "markdown",
   "metadata": {},
   "source": [
    "### For"
   ]
  },
  {
   "cell_type": "markdown",
   "metadata": {},
   "source": [
    "##### Range: belirli sayıda sayılar üretir. üç farklı parametre alır\n"
   ]
  },
  {
   "cell_type": "markdown",
   "metadata": {},
   "source": [
    "### for usage with STR format"
   ]
  },
  {
   "cell_type": "code",
   "execution_count": 6,
   "metadata": {},
   "outputs": [
    {
     "name": "stdout",
     "output_type": "stream",
     "text": [
      "P\n",
      "y\n",
      "t\n",
      "h\n",
      "o\n",
      "n\n"
     ]
    }
   ],
   "source": [
    "\"\"\"\n",
    "strr = \"Python\"\n",
    "for kar in strr:\n",
    "    print (kar,end=\"-\")\n",
    "\"\"\"\n",
    "strr = \"Python\"\n",
    "for kar in strr:\n",
    "    print (kar,sep=\"/n\")"
   ]
  },
  {
   "cell_type": "code",
   "execution_count": 7,
   "metadata": {},
   "outputs": [
    {
     "name": "stdout",
     "output_type": "stream",
     "text": [
      "emel\n",
      "çağrı\n",
      "kemal\n",
      "hakkı\n",
      "şenel\n",
      "fatma\n"
     ]
    }
   ],
   "source": [
    "lisst = [\"emel\",\"çağrı\",\"kemal\",\"hakkı\",\"şenel\",\"fatma\"]\n",
    "for item in lisst:\n",
    "    print(item)"
   ]
  },
  {
   "cell_type": "code",
   "execution_count": 12,
   "metadata": {},
   "outputs": [
    {
     "name": "stdout",
     "output_type": "stream",
     "text": [
      "1\n",
      "2\n",
      "3\n",
      "One\n",
      "two\n",
      "Three\n",
      "dict_items([('1', 'One'), ('2', 'two'), ('3', 'Three')])\n",
      "1:One\n",
      "2:two\n",
      "3:Three\n"
     ]
    }
   ],
   "source": [
    "diction = {\"1\":\"One\",\"2\":\"two\",\"3\":\"Three\"}\n",
    "for key in diction.keys():\n",
    "    print(key)\n",
    "for value in diction.values():\n",
    "    print(value)\n",
    "print(diction.items())\n",
    "for key,value in diction.items():\n",
    "    print(key,value,sep=\":\")"
   ]
  },
  {
   "cell_type": "code",
   "execution_count": 13,
   "metadata": {},
   "outputs": [
    {
     "name": "stdout",
     "output_type": "stream",
     "text": [
      "1\n",
      "2\n",
      "3\n",
      "4\n",
      "5\n",
      "6\n"
     ]
    }
   ],
   "source": [
    "tupll = (1,2,3,4,5,6)\n",
    "for item in tupll:\n",
    "    print(item)"
   ]
  },
  {
   "cell_type": "markdown",
   "metadata": {},
   "source": [
    "### range()"
   ]
  },
  {
   "cell_type": "code",
   "execution_count": 17,
   "metadata": {},
   "outputs": [
    {
     "name": "stdout",
     "output_type": "stream",
     "text": [
      "0\n",
      "1\n",
      "2\n",
      "3\n",
      "4\n",
      "5\n"
     ]
    }
   ],
   "source": [
    "for i in range(6):\n",
    "    print(i)"
   ]
  },
  {
   "cell_type": "code",
   "execution_count": 18,
   "metadata": {},
   "outputs": [
    {
     "name": "stdout",
     "output_type": "stream",
     "text": [
      "0\n",
      "5\n",
      "10\n",
      "15\n",
      "20\n",
      "25\n",
      "30\n",
      "35\n",
      "40\n",
      "45\n"
     ]
    }
   ],
   "source": [
    "for i in range(0,50,5):\n",
    "    print(i)"
   ]
  },
  {
   "cell_type": "code",
   "execution_count": 20,
   "metadata": {},
   "outputs": [
    {
     "name": "stdout",
     "output_type": "stream",
     "text": [
      "0 is even number!\n",
      "1 is odd number!\n",
      "2 is even number!\n",
      "3 is odd number!\n",
      "4 is even number!\n",
      "5 is odd number!\n",
      "6 is even number!\n",
      "7 is odd number!\n",
      "8 is even number!\n",
      "9 is odd number!\n",
      "10 is even number!\n",
      "11 is odd number!\n",
      "12 is even number!\n",
      "13 is odd number!\n",
      "14 is even number!\n",
      "15 is odd number!\n",
      "16 is even number!\n",
      "17 is odd number!\n",
      "18 is even number!\n",
      "19 is odd number!\n"
     ]
    }
   ],
   "source": [
    "for i in range(0,20):\n",
    "    if i %2 == 0:\n",
    "        print(i,\"is even number!\")\n",
    "    else:\n",
    "        print(i,\"is odd number!\")"
   ]
  },
  {
   "cell_type": "code",
   "execution_count": 21,
   "metadata": {},
   "outputs": [
    {
     "name": "stdout",
     "output_type": "stream",
     "text": [
      "Enter a number:12\n",
      "0 is even number!\n",
      "1 is odd number!\n",
      "2 is even number!\n",
      "3 is odd number!\n",
      "4 is even number!\n",
      "5 is odd number!\n",
      "6 is even number!\n",
      "7 is odd number!\n",
      "8 is even number!\n",
      "9 is odd number!\n",
      "10 is even number!\n",
      "11 is odd number!\n"
     ]
    }
   ],
   "source": [
    "numb = int(input(\"Enter a number:\"))\n",
    "for i in range(0,numb):\n",
    "    if i %2 == 0:\n",
    "        print(i,\"is even number!\")\n",
    "    else:\n",
    "        print(i,\"is odd number!\")"
   ]
  },
  {
   "cell_type": "markdown",
   "metadata": {},
   "source": [
    "### sample Fibonacci"
   ]
  },
  {
   "cell_type": "code",
   "execution_count": 37,
   "metadata": {},
   "outputs": [
    {
     "name": "stdout",
     "output_type": "stream",
     "text": [
      "1\n",
      "1\n",
      "2\n",
      "3\n",
      "5\n",
      "8\n",
      "13\n",
      "21\n",
      "34\n",
      "55\n",
      "89\n",
      "144\n"
     ]
    }
   ],
   "source": [
    "a = b = 1\n",
    "print(a)\n",
    "print(b)\n",
    "for i in range(0,10):\n",
    "    c = a + b\n",
    "    print(c)\n",
    "    a,b = b,c\n"
   ]
  },
  {
   "cell_type": "code",
   "execution_count": 38,
   "metadata": {},
   "outputs": [
    {
     "name": "stdout",
     "output_type": "stream",
     "text": [
      "Enter a upper limit:15\n",
      "1\n",
      "1\n",
      "2\n",
      "3\n",
      "5\n",
      "8\n",
      "13\n",
      "21\n",
      "34\n",
      "55\n",
      "89\n",
      "144\n",
      "233\n",
      "377\n",
      "610\n",
      "987\n",
      "1597\n"
     ]
    }
   ],
   "source": [
    "number = int(input(\"Enter a upper limit:\"))\n",
    "a = b = 1\n",
    "print(a)\n",
    "print(b)\n",
    "for i in range(0,number):\n",
    "    c = a + b\n",
    "    print(c)\n",
    "    a,b = b,c"
   ]
  },
  {
   "cell_type": "markdown",
   "metadata": {},
   "source": [
    "#### altın oran"
   ]
  },
  {
   "cell_type": "code",
   "execution_count": 40,
   "metadata": {},
   "outputs": [
    {
     "name": "stdout",
     "output_type": "stream",
     "text": [
      "Enter a upper limit:15\n",
      "1\n",
      "1\n",
      "0 2.0 2\n",
      "1 1.5 3\n",
      "2 1.6666666666666667 5\n",
      "3 1.6 8\n",
      "4 1.625 13\n",
      "5 1.6153846153846154 21\n",
      "6 1.619047619047619 34\n",
      "7 1.6176470588235294 55\n",
      "8 1.6181818181818182 89\n",
      "9 1.6179775280898876 144\n",
      "10 1.6180555555555556 233\n",
      "11 1.6180257510729614 377\n",
      "12 1.6180371352785146 610\n",
      "13 1.618032786885246 987\n",
      "14 1.618034447821682 1597\n"
     ]
    }
   ],
   "source": [
    "number = int(input(\"Enter a upper limit:\"))\n",
    "a = b = 1\n",
    "print(a)\n",
    "print(b)\n",
    "for i in range(0,number):\n",
    "    c = a + b\n",
    "    print(i,c/b,c)\n",
    "    a,b = b,c"
   ]
  },
  {
   "cell_type": "markdown",
   "metadata": {},
   "source": [
    "### asal sayı"
   ]
  },
  {
   "cell_type": "code",
   "execution_count": 41,
   "metadata": {},
   "outputs": [
    {
     "name": "stdout",
     "output_type": "stream",
     "text": [
      "4\n"
     ]
    }
   ],
   "source": [
    "numb = int(input(\"Enter a number. Then we wiil chekc it!\"))"
   ]
  },
  {
   "cell_type": "markdown",
   "metadata": {},
   "source": [
    "#### faktoriel\n"
   ]
  },
  {
   "cell_type": "code",
   "execution_count": 55,
   "metadata": {},
   "outputs": [
    {
     "name": "stdout",
     "output_type": "stream",
     "text": [
      "Enter a number!3\n",
      "3!:6\n"
     ]
    }
   ],
   "source": [
    "numb = int(input(\"Enter a number!\"))\n",
    "result = 1\n",
    "for i in range(1,numb+1):\n",
    "    result = result*i\n",
    "print(i,result,sep=\"!:\")\n"
   ]
  },
  {
   "cell_type": "markdown",
   "metadata": {},
   "source": [
    "#### toplam fonk\n"
   ]
  },
  {
   "cell_type": "code",
   "execution_count": 58,
   "metadata": {},
   "outputs": [
    {
     "name": "stdout",
     "output_type": "stream",
     "text": [
      "Enter a number!10\n",
      "10:56\n"
     ]
    }
   ],
   "source": [
    "numb = int(input(\"Enter a number!\"))\n",
    "result = 1\n",
    "for i in range(1,numb+1):\n",
    "    result = result+i\n",
    "print(i,result,sep=\":\")\n"
   ]
  },
  {
   "cell_type": "markdown",
   "metadata": {},
   "source": [
    "### while"
   ]
  },
  {
   "cell_type": "markdown",
   "metadata": {},
   "source": [
    "while da sınır yerine koşul yazılır. ve koşulu belirlemezsek sonsuz döngüye kapılabilir."
   ]
  },
  {
   "cell_type": "code",
   "execution_count": null,
   "metadata": {},
   "outputs": [],
   "source": [
    "while True:\n",
    "    print(\"Python\")"
   ]
  },
  {
   "cell_type": "code",
   "execution_count": 1,
   "metadata": {},
   "outputs": [
    {
     "name": "stdout",
     "output_type": "stream",
     "text": [
      "0\n",
      "1\n",
      "2\n",
      "3\n",
      "4\n",
      "5\n",
      "6\n",
      "7\n",
      "8\n",
      "9\n",
      "Over\n"
     ]
    }
   ],
   "source": [
    "numbr = 0\n",
    "while numbr < 10: \n",
    "    print(numbr)\n",
    "    numbr +=1\n",
    "print(\"Over\")"
   ]
  },
  {
   "cell_type": "code",
   "execution_count": 4,
   "metadata": {},
   "outputs": [
    {
     "name": "stdout",
     "output_type": "stream",
     "text": [
      "kemal\n",
      "hakkı\n",
      "emel\n",
      "fatma\n",
      "aysun\n",
      "şenel\n",
      "over\n"
     ]
    }
   ],
   "source": [
    "listt = [\"kemal\",\"hakkı\",\"emel\",\"fatma\",\"aysun\",\"şenel\"]\n",
    "numb = 0\n",
    "while numb < len(listt):\n",
    "    print(listt[numb])\n",
    "    numb +=1\n",
    "print(\"over\")"
   ]
  },
  {
   "cell_type": "code",
   "execution_count": 1,
   "metadata": {},
   "outputs": [
    {
     "name": "stdout",
     "output_type": "stream",
     "text": [
      "insert key number:4\n",
      "insert key number:7\n",
      "insert key number:5\n",
      "transaction over\n"
     ]
    }
   ],
   "source": [
    "key = 1\n",
    "while key ==1:\n",
    "    enter = input(\"insert key number:\")\n",
    "    if enter == \"5\":\n",
    "        key = 0\n",
    "print(\"transaction over\")"
   ]
  },
  {
   "cell_type": "code",
   "execution_count": 6,
   "metadata": {
    "scrolled": true
   },
   "outputs": [
    {
     "name": "stdout",
     "output_type": "stream",
     "text": [
      "Please, write your name:murat\n",
      "91\n",
      "Enter Your Estimation:91\n",
      "congrats! murat\n",
      "The Number is: 91\n"
     ]
    }
   ],
   "source": [
    "name = (input(\"Please, write your name:\"))\n",
    "import random\n",
    "number = (random.randint(0,100))\n",
    "print(number)\n",
    "est = 0\n",
    "loop = 0\n",
    "while loop < 5:\n",
    "    est = int(input(\"Enter Your Estimation:\"))\n",
    "    if number == est:\n",
    "        print(\"congrats!\",name)\n",
    "        break\n",
    "    else:\n",
    "        print(\"could not find\", name)\n",
    "    if number < est:\n",
    "        print(\"Down!\")\n",
    "    else:\n",
    "        print(\"Up!\")\n",
    "    loop +=1\n",
    "print(\"The Number is:\",number)"
   ]
  },
  {
   "cell_type": "markdown",
   "metadata": {},
   "source": [
    "### break,continue, else, pass"
   ]
  },
  {
   "cell_type": "code",
   "execution_count": 10,
   "metadata": {},
   "outputs": [
    {
     "name": "stdout",
     "output_type": "stream",
     "text": [
      "4\n"
     ]
    }
   ],
   "source": [
    "total = 0\n",
    "for numb in range(1,10):\n",
    "    if numb ==2:\n",
    "        continue\n",
    "    total += numb\n",
    "    if numb == 3:\n",
    "        break\n",
    "print(total)"
   ]
  },
  {
   "cell_type": "code",
   "execution_count": 15,
   "metadata": {},
   "outputs": [
    {
     "name": "stdout",
     "output_type": "stream",
     "text": [
      "100 is the number which shows the upper limit and the total of the range(1-100) is 1050\n"
     ]
    }
   ],
   "source": [
    "sum100 = 0\n",
    "for numb in range(0,101,5):\n",
    "    \"\"\"\n",
    "    if numb == 25:\n",
    "        continue\n",
    "    \"\"\"    \n",
    "    sum100 += numb\n",
    "print(numb,sum100,sep=\" is the number which shows the upper limit and the total of the range(1-100) is \")"
   ]
  },
  {
   "cell_type": "markdown",
   "metadata": {},
   "source": [
    "#### break"
   ]
  },
  {
   "cell_type": "code",
   "execution_count": null,
   "metadata": {},
   "outputs": [
    {
     "name": "stdout",
     "output_type": "stream",
     "text": [
      "1\n",
      "2\n",
      "3\n",
      "4\n",
      "5\n",
      "Please enter a transaction number15\n",
      "successfull!\n",
      "Please enter a transaction number5\n",
      "successfull!\n",
      "Please enter a transaction number4\n",
      "successfull!\n",
      "Please enter a transaction number3\n",
      "successfull!\n"
     ]
    }
   ],
   "source": [
    "x = 0\n",
    "transact = 0\n",
    "for x in range(1,6):\n",
    "    print(x)\n",
    "while True:\n",
    "    trnasact = input(\"Please enter a transaction number\")\n",
    "    if transact == x:\n",
    "        print(\"The number you entered exists! Try another!\")\n",
    "    else:\n",
    "        print(\"successfull!\")"
   ]
  },
  {
   "cell_type": "code",
   "execution_count": null,
   "metadata": {},
   "outputs": [],
   "source": []
  }
 ],
 "metadata": {
  "kernelspec": {
   "display_name": "Python 3",
   "language": "python",
   "name": "python3"
  },
  "language_info": {
   "codemirror_mode": {
    "name": "ipython",
    "version": 3
   },
   "file_extension": ".py",
   "mimetype": "text/x-python",
   "name": "python",
   "nbconvert_exporter": "python",
   "pygments_lexer": "ipython3",
   "version": "3.7.6"
  }
 },
 "nbformat": 4,
 "nbformat_minor": 4
}
