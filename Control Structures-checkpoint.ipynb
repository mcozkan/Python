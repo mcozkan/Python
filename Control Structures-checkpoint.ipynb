{
 "cells": [
  {
   "cell_type": "code",
   "execution_count": 13,
   "metadata": {},
   "outputs": [
    {
     "name": "stdout",
     "output_type": "stream",
     "text": [
      "Insert a number:-55\n",
      "a is nötr or negative!\n"
     ]
    }
   ],
   "source": [
    "a = int(input(\"Insert a number:\"))\n",
    "if a > 0:\n",
    "    print(\"a is positive!\")\n",
    "else:\n",
    "    print(\"a is nötr or negative!\");"
   ]
  },
  {
   "cell_type": "code",
   "execution_count": 17,
   "metadata": {},
   "outputs": [
    {
     "name": "stdout",
     "output_type": "stream",
     "text": [
      "Insert a number:88\n",
      "a is positive!\n"
     ]
    }
   ],
   "source": [
    "a = int(input(\"Insert a number:\"))\n",
    "if a > 0:\n",
    "    print(\"a is positive!\")\n",
    "elif a == 0:\n",
    "    print(\"a is notr!\")\n",
    "else:\n",
    "    print(\"a is negative!\");"
   ]
  },
  {
   "cell_type": "markdown",
   "metadata": {},
   "source": [
    "### if-else-elif"
   ]
  },
  {
   "cell_type": "code",
   "execution_count": null,
   "metadata": {},
   "outputs": [],
   "source": [
    "##Avarage Note Calculator\n",
    "\n",
    "visa_1 = float(input(\"please insert your first visa point:\"))\n",
    "if visa_1 > 100:\n",
    "    print(\"NaN\" + ' ' + \"The point you entered is not between the range allowed!\")\n",
    "else:\n",
    "    print(\"1.st visa:\",visa_1)\n",
    "visa_1_perc = (visa_1*(20/100))\n",
    "visa_2 = float(input(\"please insert your second visa point:\"))\n",
    "if visa_2 > 100:\n",
    "    print(\"NaN\")\n",
    "else:\n",
    "    print(\"2.nd visa:\",visa_2)\n",
    "visa_2_perc = (visa_2*(20/100))\n",
    "final = float(input(\"please insert your final point:\"))\n",
    "if final > 100:\n",
    "    print(\"NaN\")\n",
    "else:\n",
    "    print(\"final note\",final)\n",
    "final_perc = (final*(60/100))\n",
    "avg_note = visa_1_perc+visa_2_perc+final_perc\n",
    "print(\"Your avarage note:\",avg_note)\n",
    "\n",
    "\"\"\"\n",
    "0-44 EE\n",
    "45-54 DD\n",
    "55-64 CC\n",
    "65-74 BB\n",
    "75-100 AA\n",
    "\"\"\"\n",
    "if avg_note <= 44:\n",
    "    print(\"your grade\",\"EE\")\n",
    "elif avg_note <=54:\n",
    "    print(\"your grade\",\"DD\")\n",
    "elif avg_note <= 64:\n",
    "    print(\"your grade\",\"CC\")\n",
    "elif avg_note <= 74: \n",
    "    print(\"your grade\",\"BB\")\n",
    "elif avg_note <= 100:\n",
    "    print(\"your grade\",\"AA\")\n",
    "else:\n",
    "    print(\"NaN\")"
   ]
  },
  {
   "cell_type": "code",
   "execution_count": 10,
   "metadata": {},
   "outputs": [
    {
     "name": "stdout",
     "output_type": "stream",
     "text": [
      "Dolu\n"
     ]
    }
   ],
   "source": [
    "metin = \"ddcd\" ##if there is nothing inside, python will show us nothing. That's because the Python accepts empty values as zero.\n",
    "sayi = 0\n",
    "liste = []\n",
    "demet = ()\n",
    "sozluk = {}\n",
    "if metin:\n",
    "    print(\"Dolu\")"
   ]
  },
  {
   "cell_type": "markdown",
   "metadata": {},
   "source": [
    " ### in\n",
    " "
   ]
  },
  {
   "cell_type": "code",
   "execution_count": 2,
   "metadata": {},
   "outputs": [
    {
     "name": "stdout",
     "output_type": "stream",
     "text": [
      "Insert your point:45\n",
      "Added!\n",
      "[2, 3, 5, 7, 9, 11, 13, 45]\n"
     ]
    }
   ],
   "source": [
    "listt = [2,3,5,7,9,11,13]\n",
    "nmbr = int(input(\"Insert your point:\"))\n",
    "if nmbr in listt:\n",
    "    print(\"Number exists in listt!\")\n",
    "else:\n",
    "    listt.append(nmbr)\n",
    "    print(\"Added!\")\n",
    "print(listt)"
   ]
  },
  {
   "cell_type": "code",
   "execution_count": 17,
   "metadata": {},
   "outputs": [
    {
     "name": "stdout",
     "output_type": "stream",
     "text": [
      "Please enter a word!umbrella\n",
      "Enter a letter:u\n",
      "found a letter!\n",
      "Enter a letter:v\n",
      "the letter you entered does not exist!\n",
      "Enter a letter:q\n",
      "the letter you entered does not exist!\n",
      "Enter a letter:y\n",
      "the letter you entered does not exist!\n",
      "Enter the word you think:duck\n",
      "try again!\n"
     ]
    }
   ],
   "source": [
    "strr = str(input(\"Please enter a word!\"))\n",
    "if input(\"Enter a letter:\") in strr:\n",
    "    print(\"found a letter!\")\n",
    "else:\n",
    "    print(\"the letter you entered does not exist!\")\n",
    "if input(\"Enter a letter:\") in strr:\n",
    "    print(\"found a letter!\")\n",
    "else:\n",
    "    print(\"the letter you entered does not exist!\")\n",
    "if input(\"Enter a letter:\") in strr:\n",
    "    print(\"found a letter!\")\n",
    "else:\n",
    "    print(\"the letter you entered does not exist!\")\n",
    "if input(\"Enter a letter:\") in strr:\n",
    "    print(\"found a letter!\")\n",
    "else:\n",
    "    print(\"the letter you entered does not exist!\")\n",
    "word = str(input(\"Enter the word you think:\"))\n",
    "if word == strr:\n",
    "    print(\"you found!\")\n",
    "else:\n",
    "    print(\"try again!\")\n",
    "    "
   ]
  },
  {
   "cell_type": "markdown",
   "metadata": {},
   "source": [
    "##### is"
   ]
  },
  {
   "cell_type": "code",
   "execution_count": 1,
   "metadata": {},
   "outputs": [],
   "source": [
    "a = float(\"3\")\n",
    "b = 3\n",
    "if a is b:\n",
    "    print(\"a b dir\")"
   ]
  },
  {
   "cell_type": "markdown",
   "metadata": {},
   "source": [
    "### and"
   ]
  },
  {
   "cell_type": "code",
   "execution_count": 6,
   "metadata": {},
   "outputs": [
    {
     "name": "stdout",
     "output_type": "stream",
     "text": [
      "please enter a number:12\n",
      "The number you entered is even number and possitive!\n"
     ]
    }
   ],
   "source": [
    "numb = int(input(\"please enter a number:\"))\n",
    "if numb > 0 and numb %2 ==0:\n",
    "    print(\"The number you entered is even number and possitive!\")\n",
    "else:\n",
    "    print(\"the number you entered is odd number!\")"
   ]
  },
  {
   "cell_type": "markdown",
   "metadata": {},
   "source": [
    "### or"
   ]
  },
  {
   "cell_type": "code",
   "execution_count": 7,
   "metadata": {},
   "outputs": [
    {
     "name": "stdout",
     "output_type": "stream",
     "text": [
      "please enter a number:-12\n",
      "The number you entered is even number and possitive!\n"
     ]
    }
   ],
   "source": [
    "numb = int(input(\"please enter a number:\"))\n",
    "if numb > 0 or numb %2 ==0:\n",
    "    print(\"The number you entered is even number and possitive!\")\n",
    "else:\n",
    "    print(\"the number you entered is odd number!\")"
   ]
  },
  {
   "cell_type": "markdown",
   "metadata": {},
   "source": [
    "### not"
   ]
  },
  {
   "cell_type": "code",
   "execution_count": 18,
   "metadata": {},
   "outputs": [
    {
     "name": "stdout",
     "output_type": "stream",
     "text": [
      "User Name:mcoz\n",
      "Password:4pk6bev9\n",
      "Welcome mcoz\n"
     ]
    }
   ],
   "source": [
    "\"\"\"\n",
    "password_1 = \"4pk6bev9\"\n",
    "password = input(\"Enter Password:\")\n",
    "if password == password_1:\n",
    "    print(\"Password True!\")\n",
    "else:\n",
    "    print(\"Password Wrong!\")\n",
    "\"\"\"\n",
    "\n",
    "UserName = input(\"User Name:\")\n",
    "password = input(\"Password:\")\n",
    "if not password:\n",
    "    print(\"Password Wrong!\")\n",
    "elif UserName == \"mcoz\" and password == \"4pk6bev9\":\n",
    "        print(\"Welcome {}\".format(UserName))        "
   ]
  },
  {
   "cell_type": "code",
   "execution_count": null,
   "metadata": {},
   "outputs": [],
   "source": []
  }
 ],
 "metadata": {
  "kernelspec": {
   "display_name": "Python 3",
   "language": "python",
   "name": "python3"
  },
  "language_info": {
   "codemirror_mode": {
    "name": "ipython",
    "version": 3
   },
   "file_extension": ".py",
   "mimetype": "text/x-python",
   "name": "python",
   "nbconvert_exporter": "python",
   "pygments_lexer": "ipython3",
   "version": "3.7.6"
  }
 },
 "nbformat": 4,
 "nbformat_minor": 4
}
